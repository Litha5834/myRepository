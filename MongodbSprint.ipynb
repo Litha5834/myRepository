{
 "cells": [
  {
   "cell_type": "code",
   "execution_count": 26,
   "metadata": {},
   "outputs": [
    {
     "name": "stdout",
     "output_type": "stream",
     "text": [
      "<pymongo.results.InsertManyResult object at 0x0000014CB737A448>\n"
     ]
    }
   ],
   "source": [
    "import pymongo\n",
    "myclient=pymongo.MongoClient(\"mongodb://localhost:27017/\")\n",
    "mydb=myclient[\"Data_Tracker\"]\n",
    "mycol=mydb[\"Sprint stock\"]\n",
    "mydict= [  \n",
    "            {\"Name\":\"Simba\",\"Stock Price\":12.00,\"Selling Price\":14.00,\"Barcode\":1,\"Stock Sold\":22},\n",
    "            {\"Name\":\"Lays\",\"Stock Price\":12.00,\"Selling Price\":14.00,\"Barcode\":2,\"Stock Sold\":20},\n",
    "            {\"Name\":\"Doritos\",\"Stock Price\":12.00,\"Selling Price\":14.00,\"Barcode\":3,\"Stock Sold\":26},\n",
    "            {\"Name\":\"Pringles\",\"Stock Price\":12.00,\"Selling Price\":14.00,\"Barcode\":4,\"Stock Sold\":21},\n",
    "            {\"Name\":\"Coke\",\"Stock Price\":18.00,\"Selling Price\":22.00,\"Barcode\":5,\"Stock Sold\":22},\n",
    "            {\"Name\":\"Fanta\",\"Stock Price\":18.00,\"Selling Price\":22.00,\"Barcode\":6,\"Stock Sold\":22},\n",
    "            {\"Name\":\"Pepsi\",\"Stock Price\":18.00,\"Selling Price\":22.00,\"Barcode\":7,\"Stock Sold\":22},\n",
    "            {\"Name\":\"Sprite\",\"Stock Price\":18.00,\"Selling Price\":22.00,\"Barcode\":8,\"Stock Sold\":22},\n",
    "            {\"Name\":\"Top Deck\",\"Stock Price\":15.00,\"Selling Price\":18.00,\"Barcode\":9,\"Stock Sold\":22},\n",
    "            {\"Name\":\"Rum & Raisin\",\"Stock Price\":15.00,\"Selling Price\":18.00,\"Barcode\":10,\"Stock Sold\":22},\n",
    "            {\"Name\":\"Aero\",\"Stock Price\":18.00,\"Selling Price\":22.00,\"Barcode\":11,\"Stock Sold\":25},\n",
    "            {\"Name\":\"Lindt\",\"Stock Price\":28.00,\"Selling Price\":32.00,\"Barcode\":12,\"Stock Sold\":15},\n",
    "            {\"Name\":\"Pepper Steak\",\"Stock Price\":18.00,\"Selling Price\":24.00,\"Barcode\":13,\"Stock Sold\":22},\n",
    "            {\"Name\":\"Steak & Kidney\",\"Stock Price\":18.00,\"Selling Price\":24.00,\"Barcode\":14,\"Stock Sold\":20},\n",
    "            {\"Name\":\"Ham & Cheese\",\"Stock Price\":18.00,\"Selling Price\":24.00,\"Barcode\":15,\"Stock Sold\":24},\n",
    "            {\"Name\":\"Burger Pie\",\"Stock Price\":18.00,\"Selling Price\":24.00,\"Barcode\":16,\"Stock Sold\":16},\n",
    "            {\"Name\":\"Pear\",\"Stock Price\":13.00,\"Selling Price\":17.00,\"Barcode\":17,\"Stock Sold\":31},\n",
    "            {\"Name\":\"Apple\",\"Stock Price\":13.00,\"Selling Price\":17.00,\"Barcode\":18,\"Stock Sold\":38},\n",
    "            {\"Name\":\"Guava\",\"Stock Price\":13.00,\"Selling Price\":17.00,\"Barcode\":19,\"Stock Sold\":25},\n",
    "            {\"Name\":\"Mango\",\"Stock Price\":24.00,\"Selling Price\":30.00,\"Barcode\":20,\"Stock Sold\":27},\n",
    "            {\"Name\":\"Red velvet\",\"Stock Price\":13.00,\"Selling Price\":17.00,\"Barcode\":21,\"Stock Sold\":18},\n",
    "            {\"Name\":\"Chocolate\",\"Stock Price\":13.00,\"Selling Price\":17.00,\"Barcode\":22,\"Stock Sold\":25},\n",
    "            {\"Name\":\"Dark Forest\",\"Stock Price\":13.00,\"Selling Price\":17.00,\"Barcode\":23,\"Stock Sold\":21},\n",
    "            {\"Name\":\"Vanilla\",\"Stock Price\":13.00,\"Selling Price\":17.00,\"Barcode\":24,\"Stock Sold\":13},\n",
    "            {\"Name\":\"Cellc\",\"Stock Price\":9.00,\"Selling Price\":11.00,\"Barcode\":25,\"Stock Sold\":43},\n",
    "            {\"Name\":\"Vodacom\",\"Stock Price\":9.00,\"Selling Price\":11.00,\"Barcode\":26,\"Stock Sold\":38},\n",
    "            {\"Name\":\"Telkom\",\"Stock Price\":9.00,\"Selling Price\":11.00,\"Barcode\":27,\"Stock Sold\":30},\n",
    "            {\"Name\":\"MTN\",\"Stock Price\":9.00,\"Selling Price\":1.00,\"Barcode\":28,\"Stock Sold\":35}\n",
    "     \n",
    "       \n",
    "]\n",
    "x=mycol.insert_many(mydict)\n",
    "print(x)"
   ]
  },
  {
   "cell_type": "code",
   "execution_count": 47,
   "metadata": {},
   "outputs": [
    {
     "name": "stdout",
     "output_type": "stream",
     "text": [
      "<pymongo.results.InsertManyResult object at 0x0000014CBADE1F88>\n"
     ]
    }
   ],
   "source": [
    "import pymongo\n",
    "myclient=pymongo.MongoClient(\"mongodb://localhost:27017/\")\n",
    "mydb=myclient[\"Data_Tracker\"]\n",
    "mycol=mydb[\"Top 3\"]\n",
    "mydoc=mycol.find().sort(\"Name\")\n",
    "mydict= [  \n",
    "            {\"ITEM\":\"Cellc\",\"STOCK PRICE\":9.00,\"SELLING PRICE\":11.00,\"BARCODE\":25,\"STOCK SOLD\":43},\n",
    "            {\"ITEM\":\"Lindt\",\"STOCK PRICE\":28.00,\"SELLING PRICE\":32.00,\"BARCODE\":12,\"STOCK SOLD\":15},\n",
    "            {\"ITEM\":\"Mango\",\"STOCK PRICE\":24.00,\"SELLING PRICE\":30.00,\"BARCODE\":20,\"STOCK SOLD\":27},\n",
    "          \n",
    "]\n",
    "x=mycol.insert_many(mydict)\n",
    "print(x)\n"
   ]
  },
  {
   "cell_type": "code",
   "execution_count": 44,
   "metadata": {},
   "outputs": [
    {
     "name": "stdout",
     "output_type": "stream",
     "text": [
      "<pymongo.results.InsertManyResult object at 0x0000014CBB3FA2C8>\n"
     ]
    }
   ],
   "source": [
    "import pymongo\n",
    "myclient=pymongo.MongoClient(\"mongodb://localhost:27017/\")\n",
    "mydb=myclient[\"Data_Tracker\"]\n",
    "mycol=mydb[\"Top 3\"]\n",
    "myquery={\"ITEM\":\"Cellc\",\"STOCK SOLD\":9.00,\"SELLING PRICE\":11.00,\"BARCODE\":25,\"STOCK SOLD\":43}\n",
    "X=mycol.delete_one(myquery)\n",
    "#for x in mycol.find():\n",
    "print(x)"
   ]
  },
  {
   "cell_type": "code",
   "execution_count": 45,
   "metadata": {},
   "outputs": [
    {
     "name": "stdout",
     "output_type": "stream",
     "text": [
      "<pymongo.results.InsertManyResult object at 0x0000014CBB3FA2C8>\n"
     ]
    }
   ],
   "source": [
    "import pymongo\n",
    "myclient=pymongo.MongoClient(\"mongodb://localhost:27017/\")\n",
    "mydb=myclient[\"Data_Tracker\"]\n",
    "mycol=mydb[\"Top 3\"]\n",
    "myquery={\"ITEM\":\"Mango\",\"STOCK PRICE\":24.00,\"SELLING PRICE\":30.00,\"BARCODE\":20,\"STOCK SOLD\":27}\n",
    "X=mycol.delete_one(myquery)\n",
    "#for x in mycol.find():\n",
    "print(x)"
   ]
  },
  {
   "cell_type": "code",
   "execution_count": 67,
   "metadata": {},
   "outputs": [
    {
     "name": "stdout",
     "output_type": "stream",
     "text": [
      "{'_id': ObjectId('5e57911f1e68e508b555dcbd'), 'ITEM': 'Lindt', 'STOCK PRICE': 48.0, 'SELLING PRICE': 52.0, 'BARCODE': 12, 'STOCK SOLD': 16}\n",
      "{'_id': ObjectId('5e579140817f8d1b4812d6eb'), 'ITEM': 'Simba', '\"STOCK PRICE\"': 'R12.00', '\"SELLING PRICE\"': 'R14.00', 'STOCK': '50', '\"REMAINING STOCK\"': '28', 'BARCODE': '1', '\"STOCK SOLD\"': '22'}\n",
      "{'_id': ObjectId('5e579140817f8d1b4812d6ec'), 'ITEM': 'Lays', '\"STOCK PRICE\"': 'R12.00', '\"SELLING PRICE\"': 'R14.00', 'STOCK': '50', '\"REMAINING STOCK\"': '30', 'BARCODE': '2', '\"STOCK SOLD\"': '20'}\n",
      "{'_id': ObjectId('5e579140817f8d1b4812d6ed'), 'ITEM': 'Doritos', '\"STOCK PRICE\"': 'R12.00', '\"SELLING PRICE\"': 'R14.00', 'STOCK': '50', '\"REMAINING STOCK\"': '24', 'BARCODE': '3', '\"STOCK SOLD\"': '26'}\n",
      "{'_id': ObjectId('5e579140817f8d1b4812d6ee'), 'ITEM': 'Pringles', '\"STOCK PRICE\"': 'R12.00', '\"SELLING PRICE\"': 'R14.00', 'STOCK': '50', '\"REMAINING STOCK\"': '29', 'BARCODE': '4', '\"STOCK SOLD\"': '21'}\n",
      "{'_id': ObjectId('5e579140817f8d1b4812d6ef'), 'ITEM': 'Coke', '\"STOCK PRICE\"': 'R18.00', '\"SELLING PRICE\"': 'R22.00', 'STOCK': '50', '\"REMAINING STOCK\"': '48', 'BARCODE': '5', '\"STOCK SOLD\"': '2'}\n",
      "{'_id': ObjectId('5e579140817f8d1b4812d6f0'), 'ITEM': 'Fanta', '\"STOCK PRICE\"': 'R18.00', '\"SELLING PRICE\"': 'R22.00', 'STOCK': '50', '\"REMAINING STOCK\"': '37', 'BARCODE': '6', '\"STOCK SOLD\"': '13'}\n",
      "{'_id': ObjectId('5e579140817f8d1b4812d6f1'), 'ITEM': 'Pepsi', '\"STOCK PRICE\"': 'R18.00', '\"SELLING PRICE\"': 'R22.00', 'STOCK': '50', '\"REMAINING STOCK\"': '41', 'BARCODE': '7', '\"STOCK SOLD\"': '9'}\n",
      "{'_id': ObjectId('5e579140817f8d1b4812d6f2'), 'ITEM': 'Sprite', '\"STOCK PRICE\"': 'R18.00', '\"SELLING PRICE\"': 'R22.00', 'STOCK': '50', '\"REMAINING STOCK\"': '32', 'BARCODE': '8', '\"STOCK SOLD\"': '18'}\n",
      "{'_id': ObjectId('5e579140817f8d1b4812d6f3'), 'ITEM': '\"Top Deck\"', '\"STOCK PRICE\"': 'R15.00', '\"SELLING PRICE\"': 'R18.00', 'STOCK': '50', '\"REMAINING STOCK\"': '18', 'BARCODE': '9', '\"STOCK SOLD\"': '32'}\n",
      "{'_id': ObjectId('5e579140817f8d1b4812d6f4'), 'ITEM': '\"Rum & Raison\"', '\"STOCK PRICE\"': 'R15.00', '\"SELLING PRICE\"': 'R18.00', 'STOCK': '50', '\"REMAINING STOCK\"': '26', 'BARCODE': '10', '\"STOCK SOLD\"': '24'}\n",
      "{'_id': ObjectId('5e579140817f8d1b4812d6f5'), 'ITEM': 'Aero', '\"STOCK PRICE\"': 'R18.00', '\"SELLING PRICE\"': 'R22.00', 'STOCK': '50', '\"REMAINING STOCK\"': '25', 'BARCODE': '11', '\"STOCK SOLD\"': '25'}\n",
      "{'_id': ObjectId('5e579140817f8d1b4812d6f6'), 'ITEM': 'Lindt', '\"STOCK PRICE\"': 'R28.00', '\"SELLING PRICE\"': 'R32.00', 'STOCK': '50', '\"REMAINING STOCK\"': '35', 'BARCODE': '12', '\"STOCK SOLD\"': '15'}\n",
      "{'_id': ObjectId('5e579140817f8d1b4812d6f7'), 'ITEM': '\"Pepper Steak\"', '\"STOCK PRICE\"': 'R18.00', '\"SELLING PRICE\"': 'R24.00', 'STOCK': '50', '\"REMAINING STOCK\"': '28', 'BARCODE': '13', '\"STOCK SOLD\"': '22'}\n",
      "{'_id': ObjectId('5e579140817f8d1b4812d6f8'), 'ITEM': '\"Steak & Kidney\"', '\"STOCK PRICE\"': 'R18.00', '\"SELLING PRICE\"': 'R24.00', 'STOCK': '50', '\"REMAINING STOCK\"': '30', 'BARCODE': '14', '\"STOCK SOLD\"': '20'}\n",
      "{'_id': ObjectId('5e579140817f8d1b4812d6f9'), 'ITEM': '\"Ham & Cheese\"', '\"STOCK PRICE\"': 'R18.00', '\"SELLING PRICE\"': 'R24.00', 'STOCK': '50', '\"REMAINING STOCK\"': '26', 'BARCODE': '15', '\"STOCK SOLD\"': '24'}\n",
      "{'_id': ObjectId('5e579140817f8d1b4812d6fa'), 'ITEM': '\"Burger Pie\"', '\"STOCK PRICE\"': 'R18.00', '\"SELLING PRICE\"': 'R24.00', 'STOCK': '50', '\"REMAINING STOCK\"': '34', 'BARCODE': '16', '\"STOCK SOLD\"': '16'}\n",
      "{'_id': ObjectId('5e579140817f8d1b4812d6fb'), 'ITEM': 'Pear(pkt)', '\"STOCK PRICE\"': 'R13.00', '\"SELLING PRICE\"': 'R17.00', 'STOCK': '50', '\"REMAINING STOCK\"': '19', 'BARCODE': '17', '\"STOCK SOLD\"': '31'}\n",
      "{'_id': ObjectId('5e579140817f8d1b4812d6fc'), 'ITEM': 'Apple(pkt)', '\"STOCK PRICE\"': 'R13.00', '\"SELLING PRICE\"': 'R17.00', 'STOCK': '50', '\"REMAINING STOCK\"': '12', 'BARCODE': '18', '\"STOCK SOLD\"': '38'}\n",
      "{'_id': ObjectId('5e579140817f8d1b4812d6fd'), 'ITEM': 'Guava(pkt)', '\"STOCK PRICE\"': 'R13.00', '\"SELLING PRICE\"': 'R17.00', 'STOCK': '50', '\"REMAINING STOCK\"': '25', 'BARCODE': '19', '\"STOCK SOLD\"': '25'}\n",
      "{'_id': ObjectId('5e579140817f8d1b4812d6fe'), 'ITEM': 'Mango(pkt)', '\"STOCK PRICE\"': 'R24.00', '\"SELLING PRICE\"': 'R30.00', 'STOCK': '50', '\"REMAINING STOCK\"': '23', 'BARCODE': '20', '\"STOCK SOLD\"': '27'}\n",
      "{'_id': ObjectId('5e579140817f8d1b4812d6ff'), 'ITEM': '\"Red Velvet\"', '\"STOCK PRICE\"': 'R13.00', '\"SELLING PRICE\"': 'R17.00', 'STOCK': '50', '\"REMAINING STOCK\"': '32', 'BARCODE': '21', '\"STOCK SOLD\"': '18'}\n",
      "{'_id': ObjectId('5e579140817f8d1b4812d700'), 'ITEM': 'Chocolate', '\"STOCK PRICE\"': 'R13.00', '\"SELLING PRICE\"': 'R17.00', 'STOCK': '50', '\"REMAINING STOCK\"': '25', 'BARCODE': '22', '\"STOCK SOLD\"': '25'}\n",
      "{'_id': ObjectId('5e579140817f8d1b4812d701'), 'ITEM': '\"Dark Forest\"', '\"STOCK PRICE\"': 'R13.00', '\"SELLING PRICE\"': 'R17.00', 'STOCK': '50', '\"REMAINING STOCK\"': '29', 'BARCODE': '23', '\"STOCK SOLD\"': '21'}\n",
      "{'_id': ObjectId('5e579140817f8d1b4812d702'), 'ITEM': 'Vanilla', '\"STOCK PRICE\"': 'R13.00', '\"SELLING PRICE\"': 'R17.00', 'STOCK': '50', '\"REMAINING STOCK\"': '37', 'BARCODE': '24', '\"STOCK SOLD\"': '13'}\n",
      "{'_id': ObjectId('5e579140817f8d1b4812d703'), 'ITEM': 'Cellc(R10)', '\"STOCK PRICE\"': 'R9.00', '\"SELLING PRICE\"': 'R11.00', 'STOCK': '50', '\"REMAINING STOCK\"': '7', 'BARCODE': '26', '\"STOCK SOLD\"': '43'}\n",
      "{'_id': ObjectId('5e579140817f8d1b4812d704'), 'ITEM': 'Voda(R10)', '\"STOCK PRICE\"': 'R9.00', '\"SELLING PRICE\"': 'R11.OO', 'STOCK': '50', '\"REMAINING STOCK\"': '12', 'BARCODE': '27', '\"STOCK SOLD\"': '38'}\n",
      "{'_id': ObjectId('5e579140817f8d1b4812d705'), 'ITEM': 'Telk(R10)', '\"STOCK PRICE\"': 'R9.00', '\"SELLING PRICE\"': 'R11.00', 'STOCK': '50', '\"REMAINING STOCK\"': '20', 'BARCODE': '28', '\"STOCK SOLD\"': '30'}\n",
      "{'_id': ObjectId('5e579140817f8d1b4812d706'), 'ITEM': 'MTN(R10)', '\"STOCK PRICE\"': 'R9.00', '\"SELLING PRICE\"': 'R11.00', 'STOCK': '50', '\"REMAINING STOCK\"': '15', 'BARCODE': '29', '\"STOCK SOLD\"': '35'}\n",
      "{'_id': ObjectId('5e579140817f8d1b4812d707'), 'ITEM': '', '\"STOCK PRICE\"': 'NULL', '\"SELLING PRICE\"': 'NULL', 'STOCK': 'NULL', '\"REMAINING STOCK\"': 'NULL', 'BARCODE': '30', '\"STOCK SOLD\"': 'NULL'}\n",
      "{'_id': ObjectId('5e579140817f8d1b4812d708'), 'ITEM': '', '\"STOCK PRICE\"': None, '\"SELLING PRICE\"': None, 'STOCK': None, '\"REMAINING STOCK\"': None, 'BARCODE': None, '\"STOCK SOLD\"': None}\n",
      "{'_id': ObjectId('5e5795fa1e68e508b555dcc2'), 'ITEM': 'Cellc', 'STOCK PRICE': 9.0, 'SELLING PRICE': 11.0, 'BARCODE': 25, 'STOCK SOLD': 43}\n",
      "{'_id': ObjectId('5e5795fa1e68e508b555dcc3'), 'ITEM': 'Mango', 'STOCK PRICE': 24.0, 'SELLING PRICE': 30.0, 'BARCODE': 20, 'STOCK SOLD': 27}\n",
      "{'_id': ObjectId('5e5796471e68e508b555dcc5'), 'ITEM': 'Cellc', 'STOCK PRICE': 9.0, 'SELLING PRICE': 11.0, 'BARCODE': 25, 'STOCK SOLD': 43}\n",
      "{'_id': ObjectId('5e5796471e68e508b555dcc6'), 'ITEM': 'Mango', 'STOCK PRICE': 24.0, 'SELLING PRICE': 30.0, 'BARCODE': 20, 'STOCK SOLD': 27}\n"
     ]
    }
   ],
   "source": [
    "import pymongo\n",
    "\n",
    "myclient = pymongo.MongoClient(\"mongodb://localhost:27017/\")\n",
    "mydb = myclient[\"Data_Tracker\"]\n",
    "mycol = mydb[\"Top 3\"]\n",
    "\n",
    "myquery = { \"ITEM\":\"Lindt\",\"STOCK PRICE\":28.00,\"SELLING PRICE\":32.00,\"BARCODE\":12,\"STOCK SOLD\":15}\n",
    "newvalues = { \"$set\": {\"ITEM\":\"Lindt\",\"STOCK PRICE\":48.00,\"SELLING PRICE\":52.00,\"BARCODE\":12,\"STOCK SOLD\":16  } }\n",
    "\n",
    "x=mycol.update_one(myquery, newvalues)\n",
    "\n",
    "#print \"customers\" after the update:\n",
    "for x in mycol.find():\n",
    "    print(x)"
   ]
  },
  {
   "cell_type": "code",
   "execution_count": 18,
   "metadata": {},
   "outputs": [
    {
     "name": "stdout",
     "output_type": "stream",
     "text": [
      "{'_id': ObjectId('5e5778a21e68e508b555dc77'), 'Name': 'Cellc', 'Stock Price': 9.0, 'Selling Price': 11.0, 'Barcode': 25, 'Stock Sold': 43}\n",
      "{'_id': ObjectId('5e5778a21e68e508b555dc75'), 'Name': 'Lindt', 'Stock Price': 28.0, 'Selling Price': 32.0, 'Barcode': 12, 'Stock Sold': 15}\n",
      "{'_id': ObjectId('5e5778a21e68e508b555dc76'), 'Name': 'Mango', 'Stock Price': 24.0, 'Selling Price': 30.0, 'Barcode': 20, 'Stock Sold': 27}\n"
     ]
    }
   ],
   "source": [
    "import pymongo\n",
    "myclient=pymongo.MongoClient(\"mongodb://localhost:27017/\")\n",
    "mydb=myclient[\"Data_Tracker\"]\n",
    "mycol=mydb[\"Top 3\"]\n",
    "mydoc=mycol.find().sort(\"Name\")\n",
    "mydict= [  \n",
    "           \n",
    "            {\"Name\":\"Lindt\",\"Stock Price\":28.00,\"Selling Price\":32.00,\"Barcode\":12,\"Stock Sold\":15},\n",
    "            {\"Name\":\"Mango\",\"Stock Price\":24.00,\"Selling Price\":30.00,\"Barcode\":20,\"Stock Sold\":27},\n",
    "            {\"Name\":\"Cellc\",\"Stock Price\":9.00,\"Selling Price\":11.00,\"Barcode\":25,\"Stock Sold\":43},\n",
    "]\n",
    "#x=mycol.insert_many(mydict)\n",
    "for x in mydoc:\n",
    "    print(x)\n"
   ]
  },
  {
   "cell_type": "code",
   "execution_count": 57,
   "metadata": {},
   "outputs": [
    {
     "name": "stdout",
     "output_type": "stream",
     "text": [
      "<pymongo.results.InsertManyResult object at 0x0000014CBADE1F88>\n"
     ]
    }
   ],
   "source": [
    "import pymongo\n",
    "myclient=pymongo.MongoClient(\"mongodb://localhost:27017/\")\n",
    "mydb=myclient[\"Data_Tracker\"]\n",
    "mycol=mydb[\"Sprint stock\"]\n",
    "X=mycol.find().sort(\"BARCODE\",-1)\n",
    "#for x in mydoc:\n",
    "print(x)\n"
   ]
  }
 ],
 "metadata": {
  "kernelspec": {
   "display_name": "Python 3",
   "language": "python",
   "name": "python3"
  },
  "language_info": {
   "codemirror_mode": {
    "name": "ipython",
    "version": 3
   },
   "file_extension": ".py",
   "mimetype": "text/x-python",
   "name": "python",
   "nbconvert_exporter": "python",
   "pygments_lexer": "ipython3",
   "version": "3.7.4"
  }
 },
 "nbformat": 4,
 "nbformat_minor": 2
}
